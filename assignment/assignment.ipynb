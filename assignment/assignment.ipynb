{
  "cells": [
    {
      "cell_type": "markdown",
      "id": "13ad028b-72b7-43ed-aa78-96fd4e518040",
      "metadata": {
        "id": "13ad028b-72b7-43ed-aa78-96fd4e518040"
      },
      "source": [
        "# Assignment: Data Wrangling"
      ]
    },
    {
      "cell_type": "markdown",
      "id": "5735a4d4-8be8-433a-a351-70eb8002e632",
      "metadata": {
        "id": "5735a4d4-8be8-433a-a351-70eb8002e632"
      },
      "source": [
        "**Q1.** Open the \"tidy_data.pdf\" document in the repo, which is a paper called Tidy Data by Hadley Wickham.\n",
        "\n",
        "  1. Read the abstract. What is this paper about?\n",
        "    \n",
        "    This paper is about the importance of data tidying in relation to data cleaning. The author also discusses that there is a little research on optimizing the effciency of data cleaning, even though it is a time-consuming aspect of data analysis. This paper is a case study that eliminates the repetitive tasks associated with data cleaning.\n",
        "    \n",
        "  2. Read the introduction. What is the \"tidy data standard\" intended to accomplish?\n",
        "\n",
        "    The tidy data standard is intended to facilitate initial exploration and analysis of the data. The tidy data standard is designed to be a organization, structure that makes data easier to clean.\n",
        "\n",
        "  3. Read the intro to section 2. What does this sentence mean: \"Like families, tidy datasets are all alike but every messy dataset is messy in its own way.\" What does this sentence mean: \"For a given dataset, it’s usually easy to figure out what are observations and what are variables, but it is surprisingly difficult to precisely define variables and observations in general.\"\n",
        "\n",
        "  The first sentence is all datasets are different, therefore you will face unique challenges or different experiences with any dataset you work with. The second setnece indicates that while it is often straightforward to identify the observations or variables, coming up with general definitions is more difficult because datasets make the context of the data vary.\n",
        "\n",
        "  4. Read Section 2.2. How does Wickham define values, variables, and observations?\n",
        "\n",
        "    Wickham defines values as typically either a number or strings. A variable has all values that measure the same underlying attribute across units, whereas an observation contains all vallues measured on the same unit across attributes.\n",
        "\n",
        "  5. How is \"Tidy Data\" defined in section 2.3?\n",
        "\n",
        "    Tiny data is definied as a standard way of mapping the meaning of a dataset to its structure. Tiny data consists of each variable forming a column, each observation forming a row, and each type of observational unit forms a table.\n",
        "\n",
        "  6. Read the intro to Section 3 and Section 3.1. What are the 5 most common problems with messy datasets? Why are the data in Table 4 messy? What is \"melting\" a dataset?\n",
        "\n",
        "    The five most common problems with messy datasets are column headers being values, multiple variables being stored in one column, variables being stored in both rows and column, multiple types of obsesrvational units are stored in the same table, and a single observational unit being stored in multiple tables. The data in table 4 is messy because the columns are actually variables. Melting a dataset is when you turn columns into rows.\n",
        "\n",
        "  7. Why, specifically, is table 11 messy but table 12 tidy and \"molten\"?\n",
        "\n",
        "    Table 11 is messy because some of its columns at the top are values. Table 12 on the otherhand is tidy because none of the entries are variables.\n",
        "\n",
        "  8. Read Section 6. What is the \"chicken-and-egg\" problem with focusing on tidy data? What does Wickham hope happens in the future with further work on the subject of data wrangling?\n",
        "\n",
        "    The chicken and egg problem is that in order to be tidy, the tools that are used to work with the data also have to be too. Wickham hopes that in the future that tidy data can conceptually as a whole, be effective and that more tools and ideas will be created in the data science field.  "
      ]
    },
    {
      "cell_type": "markdown",
      "id": "da879ea7-8aac-48a3-b6c2-daea56d2e072",
      "metadata": {
        "id": "da879ea7-8aac-48a3-b6c2-daea56d2e072"
      },
      "source": [
        "**Q2.** This question provides some practice cleaning variables which have common problems.\n",
        "1. Numeric variable: For `./data/airbnb_hw.csv`, clean the `Price` variable as well as you can, and explain the choices you make. How many missing values do you end up with? (Hint: What happens to the formatting when a price goes over 999 dollars, say from 675 to 1,112?)\n",
        "2. Categorical variable: For the `./data/sharks.csv` data covered in the lecture, clean the \"Type\" variable as well as you can, and explain the choices you make.\n",
        "3. Dummy variable: For the pretrial data covered in the lecture, clean the `WhetherDefendantWasReleasedPretrial` variable as well as you can, and, in particular, replace missing values with `np.nan`.\n",
        "4. Missing values, not at random: For the pretrial data covered in the lecture, clean the `ImposedSentenceAllChargeInContactEvent` variable as well as you can, and explain the choices you make. (Hint: Look at the `SentenceTypeAllChargesAtConvictionInContactEvent` variable.)"
      ]
    },
    {
      "cell_type": "code",
      "source": [
        "import pandas as pd\n",
        "import numpy as np\n",
        "import seaborn as sns"
      ],
      "metadata": {
        "id": "WGqBdZoKeqnd"
      },
      "id": "WGqBdZoKeqnd",
      "execution_count": 20,
      "outputs": []
    },
    {
      "cell_type": "markdown",
      "source": [
        "Q2.1"
      ],
      "metadata": {
        "id": "ZBaeADuJettV"
      },
      "id": "ZBaeADuJettV"
    },
    {
      "cell_type": "code",
      "source": [
        "df = pd.read_csv('airbnb_hw.csv', low_memory=False)\n",
        "print(df.shape, '\\n')\n",
        "df.head()"
      ],
      "metadata": {
        "id": "vifXCDseeyBc"
      },
      "id": "vifXCDseeyBc",
      "execution_count": null,
      "outputs": []
    },
    {
      "cell_type": "code",
      "source": [
        "price = df['Price']\n",
        "price.unique()"
      ],
      "metadata": {
        "id": "4w1qA0D6gn8m"
      },
      "id": "4w1qA0D6gn8m",
      "execution_count": null,
      "outputs": []
    },
    {
      "cell_type": "code",
      "source": [
        "price = df['Price']\n",
        "price = price.str.replace(',','') # To get rid of commas, which are unnecessary\n",
        "price = pd.to_numeric(price,errors='coerce') # To change string to float because they are number values\n",
        "print(price.unique() , '\\n')\n",
        "print('Total missing: ', sum( price.isnull() ) )"
      ],
      "metadata": {
        "id": "Sut2RMQCgqnZ"
      },
      "id": "Sut2RMQCgqnZ",
      "execution_count": null,
      "outputs": []
    },
    {
      "cell_type": "markdown",
      "source": [
        "Q2.2"
      ],
      "metadata": {
        "id": "SXrtQnbfgu_Z"
      },
      "id": "SXrtQnbfgu_Z"
    },
    {
      "cell_type": "code",
      "source": [
        "df = pd.read_csv('sharks.csv', low_memory=False)\n",
        "# df.head()\n",
        "# df.columns.tolist()\n",
        "df['Type'].value_counts()"
      ],
      "metadata": {
        "id": "Z5xOjyL7gwRs"
      },
      "id": "Z5xOjyL7gwRs",
      "execution_count": null,
      "outputs": []
    },
    {
      "cell_type": "code",
      "source": [
        "type = df['Type']\n",
        "\n",
        "type = type.replace(['Sea Disaster', 'Boat','Boating','Boatomg'],'Watercraft') # Organizing very similar values into one column\n",
        "type.value_counts()\n",
        "type = type.replace(['Invalid', 'Questionable','Unconfirmed','Unverified','Under investigation'],np.nan) #  Organizing very similar values into one column\n",
        "type.value_counts()\n",
        "\n",
        "df['Type'] = type\n",
        "del type\n",
        "df['Type'].value_counts()\n",
        "\n",
        "df['Fatal (Y/N)'] = df['Fatal (Y/N)'].replace(['UNKNOWN', 'F','M','2017'],np.nan) # Removing unexpected values\n",
        "df['Fatal (Y/N)'] = df['Fatal (Y/N)'].replace('y','Y') # Capitalizing Y\n",
        "pd.crosstab(df['Type'],df['Fatal (Y/N)'],normalize='index')"
      ],
      "metadata": {
        "id": "mlMlR9qRg7Dy"
      },
      "id": "mlMlR9qRg7Dy",
      "execution_count": null,
      "outputs": []
    },
    {
      "cell_type": "markdown",
      "source": [
        "Q2.3"
      ],
      "metadata": {
        "id": "_vXrAi6Lk9Tt"
      },
      "id": "_vXrAi6Lk9Tt"
    },
    {
      "cell_type": "code",
      "source": [
        "df = pd.read_parquet('justice_data.parquet')"
      ],
      "metadata": {
        "id": "zD--8BWRk-Te"
      },
      "id": "zD--8BWRk-Te",
      "execution_count": 51,
      "outputs": []
    },
    {
      "cell_type": "code",
      "source": [
        "released = df['WhetherDefendantWasReleasedPretrial']\n",
        "released = released.replace(9,np.nan) # 9 are unclear in codebook, so getting rid of\n",
        "print(released.value_counts(),'\\n')\n",
        "sum(released.isnull()) # There are 31 missing values\n",
        "df['WhetherDefendantWasReleasedPretrial'] = released # Replace data column with cleaned values\n",
        "del released"
      ],
      "metadata": {
        "id": "LffUfP8NnCYu"
      },
      "id": "LffUfP8NnCYu",
      "execution_count": null,
      "outputs": []
    },
    {
      "cell_type": "markdown",
      "source": [
        "Q2.4"
      ],
      "metadata": {
        "id": "QqU6taW9reuh"
      },
      "id": "QqU6taW9reuh"
    },
    {
      "cell_type": "code",
      "source": [
        "sentence = df['ImposedSentenceAllChargeInContactEvent']\n",
        "type = df['SentenceTypeAllChargesAtConvictionInContactEvent']\n",
        "\n",
        "sentence = pd.to_numeric(sentence,errors='coerce') # Changing values to numeric\n",
        "sentence_NA = sentence.isnull()\n",
        "print( np.sum(sentence_NA),'\\n') # Lots of missing values\n",
        "\n",
        "sentence = sentence.mask( type == 4, 0) # Replacing 4 with 0 because all cases are dismissed with 4\n",
        "sentence = sentence.mask( type == 9, np.nan)\n",
        "\n",
        "sentence_NA = sentence.isnull()\n",
        "print( pd.crosstab(sentence_NA, type), '\\n')\n",
        "print( np.sum(sentence_NA),'\\n')\n",
        "\n",
        "df['ImposedSentenceAllChargeInContactEvent'] = sentence # Replace data with cleaned version\n",
        "del sentence, type"
      ],
      "metadata": {
        "id": "VWmNT2yorf-h"
      },
      "id": "VWmNT2yorf-h",
      "execution_count": null,
      "outputs": []
    },
    {
      "cell_type": "markdown",
      "id": "649494cd-cfd6-4f80-992a-9994fc19e1d5",
      "metadata": {
        "id": "649494cd-cfd6-4f80-992a-9994fc19e1d5"
      },
      "source": [
        "**Q3.** Many important datasets contain a race variable, typically limited to a handful of values often including Black, White, Asian, Latino, and Indigenous. This question looks at data gathering efforts on this variable by the U.S. Federal government.\n",
        "\n",
        "1. How did the most recent US Census gather data on race?\n",
        "2. Why do we gather these data? What role do these kinds of data play in politics and society? Why does data quality matter?\n",
        "3. Please provide a constructive criticism of how the Census was conducted: What was done well? What do you think was missing? How should future large scale surveys be adjusted to best reflect the diversity of the population? Could some of the Census' good practices be adopted more widely to gather richer and more useful data?\n",
        "4. How did the Census gather data on sex and gender? Please provide a similar constructive criticism of their practices.\n",
        "5. When it comes to cleaning data, what concerns do you have about protected characteristics like sex, gender, sexual identity, or race? What challenges can you imagine arising when there are missing values? What good or bad practices might people adopt, and why?\n",
        "6. Suppose someone invented an algorithm to impute values for protected characteristics like race, gender, sex, or sexuality. What kinds of concerns would you have?"
      ]
    }
  ],
  "metadata": {
    "colab": {
      "provenance": []
    },
    "kernelspec": {
      "display_name": "Python 3 (ipykernel)",
      "language": "python",
      "name": "python3"
    },
    "language_info": {
      "codemirror_mode": {
        "name": "ipython",
        "version": 3
      },
      "file_extension": ".py",
      "mimetype": "text/x-python",
      "name": "python",
      "nbconvert_exporter": "python",
      "pygments_lexer": "ipython3",
      "version": "3.10.4"
    }
  },
  "nbformat": 4,
  "nbformat_minor": 5
}